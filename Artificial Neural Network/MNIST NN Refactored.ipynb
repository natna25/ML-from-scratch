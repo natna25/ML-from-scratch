{
 "cells": [
  {
   "cell_type": "code",
   "execution_count": 1,
   "metadata": {},
   "outputs": [],
   "source": [
    "import numpy as np\n",
    "import pandas as pd\n",
    "import matplotlib.pyplot as plt\n",
    "import math\n",
    "import random"
   ]
  },
  {
   "cell_type": "code",
   "execution_count": 2,
   "metadata": {},
   "outputs": [],
   "source": [
    "'''\n",
    "labels are just a single number, we vectorize them to have the same shape as the output vector of the nn\n",
    "'''\n",
    "def vectorize_label(y):\n",
    "    if y == 10:\n",
    "        y=0\n",
    "    label = np.zeros(10)\n",
    "    #print(type(y))\n",
    "    label[y] = 1\n",
    "    #print(label)\n",
    "    \n",
    "    return np.reshape(label,(10,1))"
   ]
  },
  {
   "cell_type": "markdown",
   "metadata": {},
   "source": [
    "### reading the data"
   ]
  },
  {
   "cell_type": "code",
   "execution_count": 3,
   "metadata": {},
   "outputs": [
    {
     "name": "stdout",
     "output_type": "stream",
     "text": [
      "5000\n",
      "5000\n"
     ]
    }
   ],
   "source": [
    "X = []\n",
    "y = []\n",
    "data_dir = \"data/\"\n",
    "data_file = \"image_0.txt\"\n",
    "label_file = \"label.txt\"\n",
    "\n",
    "X = [[float(pix) for pix in  img.split(\",\") ] for img in open(data_dir+data_file)]\n",
    "y = [vectorize_label(int(label)) for label in open(data_dir+label_file)]\n",
    "\n",
    "X = [np.reshape(x,(400,1)) for x in X]\n",
    "\n",
    "\n",
    "data = list(zip(X,y)) # so that we can shuffle the data\n",
    "\n",
    "print(len(X))\n",
    "print(len(y))"
   ]
  },
  {
   "cell_type": "code",
   "execution_count": null,
   "metadata": {},
   "outputs": [],
   "source": []
  },
  {
   "cell_type": "markdown",
   "metadata": {},
   "source": [
    "### train test split"
   ]
  },
  {
   "cell_type": "code",
   "execution_count": 4,
   "metadata": {},
   "outputs": [
    {
     "name": "stdout",
     "output_type": "stream",
     "text": [
      "3495 3495\n",
      "1505 1505\n"
     ]
    }
   ],
   "source": [
    "train_indexes = list()\n",
    "test_indexes = list()\n",
    "\n",
    "threshold = 0.7\n",
    "\n",
    "for i in range(len(X)):\n",
    "    if np.random.uniform(0,1) < threshold:\n",
    "        train_indexes += [i]\n",
    "    else:\n",
    "        test_indexes += [i]\n",
    "\n",
    "X_train = [np.array(X[i]) for i in train_indexes ]\n",
    "y_train = [y[i] for i in train_indexes ]\n",
    "\n",
    "X_test = [np.array(X[i]) for i in test_indexes ]\n",
    "y_test = [y[i] for i in test_indexes ]\n",
    "\n",
    "\n",
    "print(len(X_train),len(y_train))\n",
    "print(len(X_test),len(y_test))"
   ]
  },
  {
   "cell_type": "code",
   "execution_count": 5,
   "metadata": {},
   "outputs": [],
   "source": [
    "train_data = list(zip(X_train,y_train))\n",
    "test_data = list(zip(X_test,y_test))"
   ]
  },
  {
   "cell_type": "markdown",
   "metadata": {},
   "source": [
    "## some important functions"
   ]
  },
  {
   "cell_type": "code",
   "execution_count": 6,
   "metadata": {},
   "outputs": [],
   "source": [
    "def sigmoid(z):\n",
    "    return 1.0/(1.0+np.exp(-z))"
   ]
  },
  {
   "cell_type": "code",
   "execution_count": 7,
   "metadata": {},
   "outputs": [],
   "source": [
    "def sigmoid_prime(z):\n",
    "    return (sigmoid(z)*(1-sigmoid(z)))"
   ]
  },
  {
   "cell_type": "code",
   "execution_count": 14,
   "metadata": {},
   "outputs": [
    {
     "data": {
      "text/plain": [
       "[array([[-1.39115788],\n",
       "        [ 0.19235115],\n",
       "        [-0.55016042],\n",
       "        [-0.95371744],\n",
       "        [-0.15396963],\n",
       "        [-0.27704242],\n",
       "        [ 0.31801086],\n",
       "        [ 0.55105612],\n",
       "        [-0.71504383],\n",
       "        [ 0.5787017 ],\n",
       "        [ 0.36332098],\n",
       "        [ 0.85253574],\n",
       "        [ 1.6437645 ],\n",
       "        [-1.11053181],\n",
       "        [-0.66724759],\n",
       "        [-0.06309689],\n",
       "        [ 0.8448941 ],\n",
       "        [-0.17404087],\n",
       "        [-0.87234737],\n",
       "        [ 0.77746428]])]"
      ]
     },
     "execution_count": 14,
     "metadata": {},
     "output_type": "execute_result"
    }
   ],
   "source": [
    "size = 20\n",
    "biases = [np.random.randn(size, 1) ]\n",
    "biases"
   ]
  },
  {
   "cell_type": "markdown",
   "metadata": {},
   "source": [
    "### Neural network class"
   ]
  },
  {
   "cell_type": "markdown",
   "metadata": {},
   "source": [
    "### important equations for performing backpropagation\n",
    "\n",
    "Then, we define the activation of the J th neuron in layer l as:\n",
    "$$ a^{l}_j = \\sigma\\left( \\sum_k w^{l}_{jk} a^{l-1}_k + b^l_j \\right) $$\n",
    "\n",
    "\n",
    "Next, we will define a total of 4 equations that will help us calculate the partial derivatives necessary to perform backropagation. \n",
    "\n",
    "1) $$  \\delta^L_j = \\frac{\\partial C}{\\partial a^L_j} \\sigma'(z^L_j) $$\n",
    "\n",
    "where delta represents the error derivative in the output layer L\n",
    "\n",
    "We can also show this function in a simpler notation with: $ \\delta^L = \\nabla_a C \\odot \\sigma'(z^L) $ where $\\odot$ is the hadamard product (element-wise product)\n",
    "\n",
    "2) $$\\delta^l = ((w^{l+1})^T \\delta^{l+1}) \\odot \\sigma'(z^l)$$\n",
    "\n",
    "Where the error derivative from any layer relates to the layers further down the network. The terms $w^{l+1})^T \\delta^{l+1}$ can be intuitively understood as propagating backwards the prediction error\n",
    "\n",
    "3) $$\\frac{\\partial C}{\\partial b^l_j} = \\delta^l_j $$\n",
    "\n",
    "The rate of change of the cost with respects to the biases in the network\n",
    "\n",
    "\n",
    "4)  $$\\frac{\\partial C}{\\partial w^l_{jk}} = a^{l-1}_k \\delta^l_j$$\n",
    "\n",
    "The rate of change of the cost with respects to the weights in the network."
   ]
  },
  {
   "cell_type": "code",
   "execution_count": 8,
   "metadata": {},
   "outputs": [],
   "source": [
    "class Neural_Network(object):\n",
    "    \n",
    "    #constructor\n",
    "    def __init__(self,layer_sizes):\n",
    "        self.num_layers = len(layer_sizes)\n",
    "        self.sizes = layer_sizes\n",
    "        #init weights and biases, done accroding to a normal distrib of mean 0 and sd 1\n",
    "        self.biases = [np.random.randn(y, 1) for y in self.sizes[1:]]\n",
    "        #weights are divided by the squre root of the dimension of the second layer to limit the variance\n",
    "        self.weights = [np.random.randn(y, x)/np.sqrt(x)\n",
    "                        for x, y in zip(self.sizes[:-1], self.sizes[1:])]\n",
    "        \n",
    "    \n",
    "    #feedforward function to pass forward the input through the network and return the output vector\n",
    "    def feedforward(self, a):\n",
    "        for w,b in zip(self.weights,self.biases):\n",
    "            a = sigmoid(np.dot(w,a))\n",
    "        return a\n",
    "    \n",
    "    #cost function of our network which is the SSE\n",
    "    def cost(self,y_pred,y):\n",
    "        sse = 0\n",
    "        for pred,true in zip(y_pred,y):\n",
    "            sse += (pred-true)**2\n",
    "        return sse/2\n",
    "    #derivative of cost function\n",
    "    def cost_prime(self,pred,y):\n",
    "        return (pred-y)\n",
    "    \n",
    "    #evaluates the accuracy of the network after each epoch\n",
    "    def evaluate(self,test_data):\n",
    "        preds = [(np.argmax(self.feedforward(x)),np.argmax(y)) for x,y in test_data]\n",
    "        \n",
    "        return sum(int(x==y) for (x,y) in preds)\n",
    "        \n",
    "    \n",
    "    \n",
    "    #actual meat of the class, with the fit functions that uses batch gradient descent to train the network\n",
    "    def fit(self,train_data,learning_rate,test_data,nb_epochs=1,batch_size=100):\n",
    "        \"\"\"\n",
    "        Fit function for our nn, uses mini_batch stochastic gradient descent for speeding up the training process.\n",
    "        instead of calculating the cost MSE for all our training examples, we split this into batches which hopefully \n",
    "        give us a good enough approximation of the Cost functions derivative\n",
    "        \"\"\"\n",
    "        accuracy = []\n",
    "        \n",
    "        \n",
    "        for epoch in range(nb_epochs):\n",
    "            #shuffle our data so we get more varied samples \n",
    "            random.shuffle(train_data)\n",
    "            #split our train data into mini batches \n",
    "            mini_batches = [train_data[i:i+batch_size] for i in range(0,len(train_data),batch_size)]\n",
    "            \n",
    "            \n",
    "            \n",
    "            #now we iterate over each batch\n",
    "            for batch in mini_batches:\n",
    "                    self.update_batch(batch,learning_rate,epoch)\n",
    "            \n",
    "            accuracy.append((self.evaluate(test_data)/len(test_data))*100) \n",
    "            print(\"startig epoch:\",epoch, \"accuracy:\", accuracy[epoch],\"%\")\n",
    "            \n",
    "            \n",
    "        #plot the accuracy\n",
    "        plt.plot(range(nb_epochs),accuracy)\n",
    "    \n",
    "    def update_batch(self,batch,learning_rate,epoch):\n",
    "        #arrays to keep track of the gradient values for each weights and bias\n",
    "        nabla_b = [np.zeros(b.shape) for b in self.biases]\n",
    "        nabla_w = [np.zeros(w.shape) for w in self.weights]\n",
    "        #iterate over the data in the batch\n",
    "        for x,y in batch:\n",
    "            delta_nabla_b,delta_nabla_w = self.backpropagate(x,y)\n",
    "            \n",
    "            # sum with previous gradients, we will take an average later\n",
    "            nabla_b = [nb+dnb for nb,dnb in zip(nabla_b,delta_nabla_b)]\n",
    "            nabla_w = [nw+dnw for nw,dnw in zip(nabla_w,delta_nabla_w)]\n",
    "        \n",
    "        #now we average the changes from earlier and apply thel to the weights\n",
    "        adjust_eta = learning_rate\n",
    "        \n",
    "        self.biases = [b - ((adjust_eta/len(batch)) * nb) for b,nb in zip(self.biases,nabla_b)]\n",
    "        self.weights = [w - ((adjust_eta/len(batch)) * nw) for w,nw in zip(self.weights,nabla_w)]\n",
    "        \n",
    "        \n",
    "    def backpropagate(self,x,y):\n",
    "        nabla_b = [np.zeros(b.shape) for b in self.biases]\n",
    "        nabla_w = [np.zeros(w.shape) for w in self.weights]\n",
    "        \n",
    "        #some arrays to keep track of the data as we go\n",
    "        #to store activation vectors at each layer\n",
    "        activations= []\n",
    "        activations.append(x) #indeed, first activation is the input\n",
    "        \n",
    "        #to store weighted sum vectors before activation\n",
    "        Zs = []\n",
    "        \n",
    "        #feed forward part\n",
    "        a=x\n",
    "        for w,b in zip(self.weights, self.biases):\n",
    "            z = np.dot(w,a) + b\n",
    "            Zs.append(z)\n",
    "            a = sigmoid(z)\n",
    "            activations.append(a)\n",
    "        \n",
    "        #now we can feed back the error and propagate it through the network\n",
    "        #first we calculate the error at the very last layer\n",
    "        delta = self.cost_prime(activations[-1],y) * sigmoid_prime(Zs[-1]) ## see equation 1 above\n",
    "        \n",
    "        #use this delta to get the gradient for weights and biases at the last layer\n",
    "        nabla_b[-1] = delta #see equation 3\n",
    "        nabla_w[-1] = np.dot(delta,activations[-2].transpose()) # see equation 4, need to transpose to match dimensions\n",
    "        \n",
    "        #now we propagate down the other layers\n",
    "        for l in range(2, self.num_layers):\n",
    "            delta = np.dot(self.weights[-l+1].transpose(),delta) * sigmoid_prime(Zs[-l]) ## see equation 2\n",
    "            \n",
    "            nabla_b[-l] = delta #see equation 3\n",
    "            nabla_w[-l] = np.dot(delta,activations[-l -1].transpose()) # see equation 4, need to transpose to match dimensions\n",
    "        \n",
    "        return nabla_b,nabla_w\n",
    "        \n",
    "        \n",
    "        "
   ]
  },
  {
   "cell_type": "code",
   "execution_count": 15,
   "metadata": {},
   "outputs": [],
   "source": [
    "nn = Neural_Network([400,30,10])"
   ]
  },
  {
   "cell_type": "code",
   "execution_count": 18,
   "metadata": {},
   "outputs": [
    {
     "name": "stdout",
     "output_type": "stream",
     "text": [
      "startig epoch: 0 accuracy: 89.56810631229236 %\n",
      "startig epoch: 1 accuracy: 89.56810631229236 %\n",
      "startig epoch: 2 accuracy: 89.5016611295681 %\n",
      "startig epoch: 3 accuracy: 89.5016611295681 %\n",
      "startig epoch: 4 accuracy: 89.56810631229236 %\n",
      "startig epoch: 5 accuracy: 89.63455149501661 %\n",
      "startig epoch: 6 accuracy: 89.5016611295681 %\n",
      "startig epoch: 7 accuracy: 89.43521594684385 %\n",
      "startig epoch: 8 accuracy: 89.5016611295681 %\n",
      "startig epoch: 9 accuracy: 89.5016611295681 %\n",
      "startig epoch: 10 accuracy: 89.63455149501661 %\n",
      "startig epoch: 11 accuracy: 89.63455149501661 %\n",
      "startig epoch: 12 accuracy: 89.63455149501661 %\n",
      "startig epoch: 13 accuracy: 89.56810631229236 %\n",
      "startig epoch: 14 accuracy: 89.56810631229236 %\n",
      "startig epoch: 15 accuracy: 89.63455149501661 %\n",
      "startig epoch: 16 accuracy: 89.70099667774086 %\n",
      "startig epoch: 17 accuracy: 89.63455149501661 %\n",
      "startig epoch: 18 accuracy: 89.56810631229236 %\n",
      "startig epoch: 19 accuracy: 89.5016611295681 %\n",
      "startig epoch: 20 accuracy: 89.56810631229236 %\n",
      "startig epoch: 21 accuracy: 89.56810631229236 %\n",
      "startig epoch: 22 accuracy: 89.5016611295681 %\n",
      "startig epoch: 23 accuracy: 89.63455149501661 %\n",
      "startig epoch: 24 accuracy: 89.56810631229236 %\n",
      "startig epoch: 25 accuracy: 89.63455149501661 %\n",
      "startig epoch: 26 accuracy: 89.70099667774086 %\n",
      "startig epoch: 27 accuracy: 89.83388704318936 %\n",
      "startig epoch: 28 accuracy: 89.70099667774086 %\n",
      "startig epoch: 29 accuracy: 89.5016611295681 %\n",
      "startig epoch: 30 accuracy: 89.63455149501661 %\n",
      "startig epoch: 31 accuracy: 89.70099667774086 %\n",
      "startig epoch: 32 accuracy: 89.83388704318936 %\n",
      "startig epoch: 33 accuracy: 89.63455149501661 %\n",
      "startig epoch: 34 accuracy: 89.5016611295681 %\n",
      "startig epoch: 35 accuracy: 89.5016611295681 %\n",
      "startig epoch: 36 accuracy: 89.56810631229236 %\n",
      "startig epoch: 37 accuracy: 89.56810631229236 %\n",
      "startig epoch: 38 accuracy: 89.56810631229236 %\n",
      "startig epoch: 39 accuracy: 89.76744186046511 %\n",
      "startig epoch: 40 accuracy: 89.56810631229236 %\n",
      "startig epoch: 41 accuracy: 89.63455149501661 %\n",
      "startig epoch: 42 accuracy: 89.70099667774086 %\n",
      "startig epoch: 43 accuracy: 89.76744186046511 %\n",
      "startig epoch: 44 accuracy: 89.76744186046511 %\n",
      "startig epoch: 45 accuracy: 89.70099667774086 %\n",
      "startig epoch: 46 accuracy: 89.70099667774086 %\n",
      "startig epoch: 47 accuracy: 89.83388704318936 %\n",
      "startig epoch: 48 accuracy: 89.70099667774086 %\n",
      "startig epoch: 49 accuracy: 89.70099667774086 %\n",
      "startig epoch: 50 accuracy: 89.70099667774086 %\n",
      "startig epoch: 51 accuracy: 89.90033222591363 %\n",
      "startig epoch: 52 accuracy: 89.83388704318936 %\n",
      "startig epoch: 53 accuracy: 89.70099667774086 %\n",
      "startig epoch: 54 accuracy: 89.76744186046511 %\n",
      "startig epoch: 55 accuracy: 89.76744186046511 %\n",
      "startig epoch: 56 accuracy: 89.70099667774086 %\n",
      "startig epoch: 57 accuracy: 89.90033222591363 %\n",
      "startig epoch: 58 accuracy: 89.76744186046511 %\n",
      "startig epoch: 59 accuracy: 89.83388704318936 %\n",
      "startig epoch: 60 accuracy: 89.90033222591363 %\n",
      "startig epoch: 61 accuracy: 89.83388704318936 %\n",
      "startig epoch: 62 accuracy: 89.76744186046511 %\n",
      "startig epoch: 63 accuracy: 89.83388704318936 %\n",
      "startig epoch: 64 accuracy: 89.76744186046511 %\n",
      "startig epoch: 65 accuracy: 89.90033222591363 %\n",
      "startig epoch: 66 accuracy: 89.90033222591363 %\n",
      "startig epoch: 67 accuracy: 89.83388704318936 %\n",
      "startig epoch: 68 accuracy: 89.90033222591363 %\n",
      "startig epoch: 69 accuracy: 89.90033222591363 %\n",
      "startig epoch: 70 accuracy: 89.90033222591363 %\n",
      "startig epoch: 71 accuracy: 89.96677740863788 %\n",
      "startig epoch: 72 accuracy: 89.90033222591363 %\n",
      "startig epoch: 73 accuracy: 89.90033222591363 %\n",
      "startig epoch: 74 accuracy: 89.96677740863788 %\n",
      "startig epoch: 75 accuracy: 89.90033222591363 %\n",
      "startig epoch: 76 accuracy: 89.90033222591363 %\n",
      "startig epoch: 77 accuracy: 89.90033222591363 %\n",
      "startig epoch: 78 accuracy: 89.90033222591363 %\n",
      "startig epoch: 79 accuracy: 89.96677740863788 %\n",
      "startig epoch: 80 accuracy: 89.96677740863788 %\n",
      "startig epoch: 81 accuracy: 90.09966777408638 %\n",
      "startig epoch: 82 accuracy: 89.96677740863788 %\n",
      "startig epoch: 83 accuracy: 90.03322259136213 %\n",
      "startig epoch: 84 accuracy: 90.03322259136213 %\n",
      "startig epoch: 85 accuracy: 90.03322259136213 %\n",
      "startig epoch: 86 accuracy: 90.09966777408638 %\n",
      "startig epoch: 87 accuracy: 89.96677740863788 %\n",
      "startig epoch: 88 accuracy: 89.90033222591363 %\n",
      "startig epoch: 89 accuracy: 90.09966777408638 %\n",
      "startig epoch: 90 accuracy: 90.03322259136213 %\n",
      "startig epoch: 91 accuracy: 90.03322259136213 %\n",
      "startig epoch: 92 accuracy: 90.16611295681062 %\n",
      "startig epoch: 93 accuracy: 90.09966777408638 %\n",
      "startig epoch: 94 accuracy: 89.96677740863788 %\n",
      "startig epoch: 95 accuracy: 89.90033222591363 %\n",
      "startig epoch: 96 accuracy: 90.03322259136213 %\n",
      "startig epoch: 97 accuracy: 89.90033222591363 %\n",
      "startig epoch: 98 accuracy: 89.96677740863788 %\n",
      "startig epoch: 99 accuracy: 89.90033222591363 %\n"
     ]
    },
    {
     "data": {
      "image/png": "[encoded data removed]",
      "text/plain": [
       "<Figure size 432x288 with 1 Axes>"
      ]
     },
     "metadata": {
      "needs_background": "light"
     },
     "output_type": "display_data"
    }
   ],
   "source": [
    "#hyperparams\n",
    "epochs = 100\n",
    "batch_size = 100\n",
    "learning_rate = 0.25\n",
    "\n",
    "nn.fit(train_data,learning_rate,test_data,epochs,batch_size)"
   ]
  }
 ],
 "metadata": {
  "kernelspec": {
   "display_name": "Python 3",
   "language": "python",
   "name": "python3"
  },
  "language_info": {
   "codemirror_mode": {
    "name": "ipython",
    "version": 3
   },
   "file_extension": ".py",
   "mimetype": "text/x-python",
   "name": "python",
   "nbconvert_exporter": "python",
   "pygments_lexer": "ipython3",
   "version": "3.7.1"
  }
 },
 "nbformat": 4,
 "nbformat_minor": 2
}
