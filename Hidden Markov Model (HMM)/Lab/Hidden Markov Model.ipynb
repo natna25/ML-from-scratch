{
 "cells": [
  {
   "cell_type": "code",
   "execution_count": null,
   "metadata": {},
   "outputs": [],
   "source": []
  },
  {
   "cell_type": "code",
   "execution_count": 2,
   "metadata": {},
   "outputs": [],
   "source": [
    "import numpy as np\n",
    "import matplotlib.pyplot as plt\n",
    "\n",
    "\n",
    "#defining the data\n",
    "\n",
    "#transition proba matrix from state Z(t-1) = Zi to Z(t) = Zj \n",
    "a = np.array(\n",
    "    [\n",
    "        [1  , 0  , 0  , 0  ],\n",
    "        [0.2, 0.3, 0.1, 0.4],\n",
    "        [0.2, 0.5, 0.2, 0.1],\n",
    "        [0.7, 0.1, 0.1, 0.1]\n",
    "    ])\n",
    "\n",
    "\n",
    "#emission proba from z(t) = Zj to X(t) =Xk \n",
    "b = np.array(\n",
    "    [\n",
    "        [1  , 0  , 0  , 0  , 0  ],\n",
    "        [0  , 0.3, 0.4, 0.1, 0.2],\n",
    "        [0  , 0.1, 0.1, 0.7, 0.1],\n",
    "        [0  , 0.5, 0.2, 0.1, 0.2]\n",
    "    ]\n",
    ")\n",
    "\n"
   ]
  },
  {
   "cell_type": "code",
   "execution_count": 3,
   "metadata": {},
   "outputs": [
    {
     "name": "stdout",
     "output_type": "stream",
     "text": [
      "[[1.  0.  0.  0. ]\n",
      " [0.2 0.3 0.1 0.4]\n",
      " [0.2 0.5 0.2 0.1]\n",
      " [0.7 0.1 0.1 0.1]]\n",
      "(4, 4)\n",
      "[[1.  0.  0.  0.  0. ]\n",
      " [0.  0.3 0.4 0.1 0.2]\n",
      " [0.  0.1 0.1 0.7 0.1]\n",
      " [0.  0.5 0.2 0.1 0.2]]\n",
      "(4, 5)\n"
     ]
    }
   ],
   "source": [
    "print(a)\n",
    "print(a.shape)\n",
    "print(b)\n",
    "print(b.shape)"
   ]
  },
  {
   "cell_type": "markdown",
   "metadata": {},
   "source": [
    "### Uses for Hidden Markov Models\n",
    "\n",
    "Hidden markov models can be used for a number of tasks:\n",
    "\n",
    "1) Evaluation problem :  $ P(X|M)$\n",
    "\n",
    "2) Decoding problem : $Z^*$ most likely path\n",
    "\n",
    "3) Learning problem: learning $ a_{i,k}$ and $ b_{i,j}$ "
   ]
  },
  {
   "cell_type": "code",
   "execution_count": 21,
   "metadata": {},
   "outputs": [
    {
     "name": "stdout",
     "output_type": "stream",
     "text": [
      "[[0.0000e+00 0.0000e+00 0.0000e+00 0.0000e+00 1.8218e-03]\n",
      " [1.0000e+00 9.0000e-02 5.2000e-03 5.1920e-03 0.0000e+00]\n",
      " [0.0000e+00 1.0000e-02 2.1700e-02 5.4300e-04 0.0000e+00]\n",
      " [0.0000e+00 2.0000e-01 5.7000e-03 9.6400e-04 0.0000e+00]]\n",
      "[1, 3, 2, 1, 0]\n",
      "P(X|M) =  0.0018218000000000002\n"
     ]
    }
   ],
   "source": [
    "def forward(a,b, z_states,x_states, X,init_state = 1):\n",
    "    \n",
    "    #init alpha\n",
    "    alpha = np.zeros((z_states,x_states))\n",
    "    \n",
    "    # create our most likely path, decoding\n",
    "    j_best = [init_state]\n",
    "    \n",
    "    alpha[init_state , 0] = 1\n",
    "    \n",
    "    for t in range(1,x_states):\n",
    "        for j in range(z_states):\n",
    "            \n",
    "            \n",
    "            alpha[j,t] = np.sum([alpha[i,t-1] * a[i,j] for i in range(1,z_states)]) * b[j,X[t-1]]\n",
    "        \n",
    "        # find most likely value to build most likely path     \n",
    "        j_best.append(np.argmax(alpha[:,t]))\n",
    "            \n",
    "    #alpha matrix, gives us likelyhood of arriving at a certain cell given all previous states        \n",
    "    print(alpha)\n",
    "    #most likely path, decoding problem\n",
    "    print(j_best)\n",
    "    \n",
    "    return alpha\n",
    "\n",
    "\n",
    "X = [1,3,2,0]\n",
    "\n",
    "\n",
    "alpha = forward(a,b, 4,5, X)\n",
    "\n",
    "#eval problem\n",
    "print(\"P(X|M) = \", alpha[0,4])"
   ]
  },
  {
   "cell_type": "code",
   "execution_count": null,
   "metadata": {},
   "outputs": [],
   "source": []
  }
 ],
 "metadata": {
  "kernelspec": {
   "display_name": "Python 3",
   "language": "python",
   "name": "python3"
  },
  "language_info": {
   "codemirror_mode": {
    "name": "ipython",
    "version": 3
   },
   "file_extension": ".py",
   "mimetype": "text/x-python",
   "name": "python",
   "nbconvert_exporter": "python",
   "pygments_lexer": "ipython3",
   "version": "3.6.8"
  }
 },
 "nbformat": 4,
 "nbformat_minor": 2
}
