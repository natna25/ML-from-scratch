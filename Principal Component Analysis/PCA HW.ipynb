{
 "cells": [
  {
   "cell_type": "markdown",
   "metadata": {},
   "source": [
    "# Principal Component Analysis (PCA)\n",
    "\n",
    "## Ressources:\n",
    "\n",
    "https://towardsdatascience.com/a-one-stop-shop-for-principal-component-analysis-5582fb7e0a9c : quick intro\n",
    "\n",
    "http://setosa.io/ev/principal-component-analysis/: visualization\n",
    "\n",
    "https://www.youtube.com/watch?v=PFDu9oVAE-g&t=583s: eigenvector & eigenvalue video (3blue1brown)\n",
    "\n",
    "https://cseweb.ucsd.edu/~dasgupta/291-unsup/lec7.pdf: eigen value & vector math course\n",
    "\n",
    "http://www.cs.otago.ac.nz/cosc453/student_tutorials/principal_components.pdf : PCA course with math refresh **\n",
    "\n",
    "https://github.com/llSourcell/Dimensionality_Reduction/blob/master/principal_component_analysis.ipynb : Siraj PCA notebook \n",
    "\n"
   ]
  },
  {
   "cell_type": "code",
   "execution_count": 1,
   "metadata": {
    "ExecuteTime": {
     "end_time": "2019-03-22T19:11:39.230215Z",
     "start_time": "2019-03-22T19:11:38.337595Z"
    }
   },
   "outputs": [],
   "source": [
    "import math\n",
    "import numpy as np\n",
    "import pandas as pd\n",
    "import matplotlib.pyplot as plt"
   ]
  },
  {
   "cell_type": "markdown",
   "metadata": {},
   "source": [
    "### Intro\n",
    "\n",
    "PCA is a widely used dimensionality reduction technique. Having too many features can lead to overly complex models which in turn can lead to overfitting. When dealing with high dimensional data, PCA can give us a better understanding of that data in order to devise a much more appropriate model for our data which should restrict the possibility of overfiting.\n",
    "\n",
    "There are 2 big ways to go about dimensionality reduction:\n",
    "\n",
    "1) feature extraction, creating one variable from others which is a combination of the others (we lose less data then the other technique)\n",
    "\n",
    "2) feature elimination, downright removeing variables\n",
    "\n",
    "PCA falls into the former category, we may be removing some dimensions, but we are removing the onces which have the least amount of variance. PCA also has the consequence of removing the overal information contained in the data but this is an expected cconsequence of dimensionality reduction techniques. However, the loss to data is minimal as we drop the principal component(s) with the least amount of variance (where the data fluctuates the least and contributes little to the data interpretability)\n",
    "\n"
   ]
  },
  {
   "cell_type": "markdown",
   "metadata": {},
   "source": [
    "# Synthetic data \n",
    "\n",
    "First we will apply this technique to synthetic data. This is only 2 dimensional data but it will give us good opportunities to graph and display the transformations that we are doing on the data\n",
    "\n",
    "## reading the data"
   ]
  },
  {
   "cell_type": "code",
   "execution_count": 2,
   "metadata": {
    "ExecuteTime": {
     "end_time": "2019-03-22T19:11:39.242182Z",
     "start_time": "2019-03-22T19:11:39.231210Z"
    }
   },
   "outputs": [
    {
     "name": "stdout",
     "output_type": "stream",
     "text": [
      "(50, 2)\n"
     ]
    }
   ],
   "source": [
    "data_file = \"data_pca.txt\"\n",
    "data_dir = \"Data/\"\n",
    "\n",
    "data = np.loadtxt(data_dir+data_file)\n",
    "o_data = data\n",
    "print(data.shape)"
   ]
  },
  {
   "cell_type": "markdown",
   "metadata": {},
   "source": [
    "### graphing the data\n",
    "By graphing the data, we can get a first grasp of what kinds of things PCA will do to our data in order to reduce its dimensionality\n"
   ]
  },
  {
   "cell_type": "code",
   "execution_count": 3,
   "metadata": {
    "ExecuteTime": {
     "end_time": "2019-03-22T19:11:39.385762Z",
     "start_time": "2019-03-22T19:11:39.245174Z"
    }
   },
   "outputs": [
    {
     "data": {
      "text/plain": [
       "<matplotlib.collections.PathCollection at 0x1bcc3ebe438>"
      ]
     },
     "execution_count": 3,
     "metadata": {},
     "output_type": "execute_result"
    },
    {
     "data": {
      "image/png": "[encoded data removed]",
      "text/plain": [
       "<Figure size 432x288 with 1 Axes>"
      ]
     },
     "metadata": {
      "needs_background": "light"
     },
     "output_type": "display_data"
    }
   ],
   "source": [
    "plt.scatter(data.transpose()[0],data.transpose()[1])"
   ]
  },
  {
   "cell_type": "markdown",
   "metadata": {},
   "source": [
    "We can tell that there is some corelation to this data. Indeed, the distribution of these points is not uniform, it looks more like a gaussian distribution."
   ]
  },
  {
   "cell_type": "markdown",
   "metadata": {},
   "source": [
    "### data pre processing\n",
    "Before running the PCA algorithm we first need to do some pre processing on the data. We need to do this step for 2 things. First to make the algorithms later easier and also so that our data looks a little better.\n",
    "\n",
    "1) first we center our data. We calculate the mean of our data and ceter it by making the mean our new origin. \n",
    "\n",
    "calculate mean : $\\mu= \\frac{\\sum_{i=1}^{I} x_i}{I}$ where I is the number of samples and x our data points\n",
    "\n",
    "center variable $x = x-\\mu$\n",
    "\n",
    "2) normalize/standardize data\n",
    "\n",
    "This step is also important. In our data, we are bound to have values which are in completely different orders of magnitude which will influence the variance of that data. To counter this bias towards data that is already expressed in large quantities we will standardize this data by dividing it by the variance\n",
    "\n",
    "we may leave this second step out of our algorithm but it can be important"
   ]
  },
  {
   "cell_type": "markdown",
   "metadata": {},
   "source": [
    "### centering around the mean\n"
   ]
  },
  {
   "cell_type": "code",
   "execution_count": 4,
   "metadata": {
    "ExecuteTime": {
     "end_time": "2019-03-22T19:11:39.595524Z",
     "start_time": "2019-03-22T19:11:39.388756Z"
    }
   },
   "outputs": [
    {
     "name": "stdout",
     "output_type": "stream",
     "text": [
      "[3.989264 5.002806]\n"
     ]
    },
    {
     "data": {
      "text/plain": [
       "<matplotlib.collections.PathCollection at 0x1bcc3f66470>"
      ]
     },
     "execution_count": 4,
     "metadata": {},
     "output_type": "execute_result"
    },
    {
     "data": {
      "image/png": "[encoded data removed]",
      "text/plain": [
       "<Figure size 432x288 with 1 Axes>"
      ]
     },
     "metadata": {
      "needs_background": "light"
     },
     "output_type": "display_data"
    }
   ],
   "source": [
    "original_mean = data.mean(axis=0)\n",
    "print(original_mean)\n",
    "\n",
    "data = data - original_mean\n",
    "plt.scatter(data.transpose()[0],data.transpose()[1])\n",
    "plt.scatter(0,0,s=100,marker='x') # mean ==> origin(0,0)"
   ]
  },
  {
   "cell_type": "markdown",
   "metadata": {},
   "source": [
    "### normalizing\n",
    "\n",
    "We will leave this step out for our example"
   ]
  },
  {
   "cell_type": "markdown",
   "metadata": {},
   "source": [
    "### calculating covariance matrix\n",
    "\n",
    "The variance shoud be the diagonal values in our covariance matrix\n"
   ]
  },
  {
   "cell_type": "code",
   "execution_count": 5,
   "metadata": {
    "ExecuteTime": {
     "end_time": "2019-03-22T19:11:39.607496Z",
     "start_time": "2019-03-22T19:11:39.598516Z"
    }
   },
   "outputs": [
    {
     "name": "stdout",
     "output_type": "stream",
     "text": [
      "[1.34854348 1.02642386]\n",
      "[[1.37606477 0.88301454]\n",
      " [0.88301454 1.04737128]]\n"
     ]
    }
   ],
   "source": [
    "var = np.var(data,axis=0)\n",
    "print(var)\n",
    "\n",
    "cov = np.cov(data.transpose())\n",
    "print(cov)"
   ]
  },
  {
   "cell_type": "markdown",
   "metadata": {},
   "source": [
    "### Caluclating the eigenvector and eigenvalues of the covariance matrix\n",
    "\n",
    "Since the covariance matrix is a square matrix, we can go ahead and calculate the eigen vector and values of this matrix.\n",
    "\n",
    "Here, we are obtaining the eigen values from the covariance matrix but it could have also been found by doing SVD"
   ]
  },
  {
   "cell_type": "code",
   "execution_count": 6,
   "metadata": {
    "ExecuteTime": {
     "end_time": "2019-03-22T19:11:39.645428Z",
     "start_time": "2019-03-22T19:11:39.610487Z"
    }
   },
   "outputs": [
    {
     "name": "stdout",
     "output_type": "stream",
     "text": [
      "[2.10989648 0.31353957]\n",
      "[[ 0.76908317 -0.63914872]\n",
      " [ 0.63914872  0.76908317]]\n"
     ]
    }
   ],
   "source": [
    "eigVal,eigVect = np.linalg.eig(cov)\n",
    "\n",
    "print(eigVal)\n",
    "print(eigVect)"
   ]
  },
  {
   "cell_type": "code",
   "execution_count": null,
   "metadata": {},
   "outputs": [],
   "source": []
  },
  {
   "cell_type": "markdown",
   "metadata": {},
   "source": [
    "### Plotting this \n",
    "\n",
    "https://stackoverflow.com/questions/18299523/basic-example-for-pca-with-matplotlib"
   ]
  },
  {
   "cell_type": "code",
   "execution_count": 7,
   "metadata": {
    "ExecuteTime": {
     "end_time": "2019-03-22T19:11:39.875938Z",
     "start_time": "2019-03-22T19:11:39.648600Z"
    }
   },
   "outputs": [
    {
     "data": {
      "image/png": "[encoded data removed]",
      "text/plain": [
       "<Figure size 432x288 with 1 Axes>"
      ]
     },
     "metadata": {
      "needs_background": "light"
     },
     "output_type": "display_data"
    }
   ],
   "source": [
    "\n",
    "fig, ax = plt.subplots()\n",
    "ax.scatter(data.transpose()[0],data.transpose()[1])\n",
    "mu = data.mean(axis=0)\n",
    "sigma = data.std(axis=0).mean()\n",
    "\n",
    "for axis in eigVect:\n",
    "    start, end = mu, mu + sigma * axis\n",
    "    ax.annotate(\n",
    "        '', xy=end, xycoords='data',\n",
    "        xytext=start, textcoords='data',\n",
    "        arrowprops=dict(facecolor='red', width=2.0))\n",
    "ax.set_aspect('equal')\n",
    "plt.show()"
   ]
  },
  {
   "cell_type": "markdown",
   "metadata": {},
   "source": [
    "### projecting data\n",
    "\n",
    "we are projecting the data on the axes provided by the eigenvectors, once we do it we obtain a graph where the data seems flatter than before. This is normal because it is projected onto the vectors which serve as our orthogonal basis vectors for the data."
   ]
  },
  {
   "cell_type": "code",
   "execution_count": 8,
   "metadata": {
    "ExecuteTime": {
     "end_time": "2019-03-22T19:11:40.091136Z",
     "start_time": "2019-03-22T19:11:39.876903Z"
    }
   },
   "outputs": [
    {
     "data": {
      "text/plain": [
       "<matplotlib.collections.PathCollection at 0x1bcc4026ef0>"
      ]
     },
     "execution_count": 8,
     "metadata": {},
     "output_type": "execute_result"
    },
    {
     "data": {
      "image/png": "[encoded data removed]",
      "text/plain": [
       "<Figure size 432x288 with 1 Axes>"
      ]
     },
     "metadata": {
      "needs_background": "light"
     },
     "output_type": "display_data"
    }
   ],
   "source": [
    "proj_data = np.dot(data,eigVect)\n",
    "\n",
    "plt.scatter(proj_data.transpose()[0],proj_data.transpose()[1])\n"
   ]
  },
  {
   "cell_type": "markdown",
   "metadata": {},
   "source": [
    "From this data we can observe where the most variance happens. it looks like it is accross the X-axis which corresponds to the first eigenvector. On the other hand, the Y axis has a much lower variance. \n",
    "\n",
    "This fact is reflected when we look at the eigenvalues for this data. Indeed, the first eigenvalue (X-axis) is the highest which indicates that this is the principal component as it has the highest amount of variance."
   ]
  },
  {
   "cell_type": "markdown",
   "metadata": {},
   "source": [
    "### Finding our principal components\n",
    "\n",
    "by sorting our eigenvalues in descending order, we will get which eigenvector has the most corresponding variance and therefore effect on the 'meaning' of our data. Since our goal is dimensionality reduction, we sort the eigenvalues in order to then be able to drop some of our principal components. This will result in a loss of information but that loss will be minimal as we are chosing to drop the principal components that have the least amount of variance on the data.\n",
    "\n",
    "Eigenvectors are supposed to have a norm of one like we would usually get from basis vectors"
   ]
  },
  {
   "cell_type": "code",
   "execution_count": 9,
   "metadata": {
    "ExecuteTime": {
     "end_time": "2019-03-22T19:11:40.101105Z",
     "start_time": "2019-03-22T19:11:40.093128Z"
    }
   },
   "outputs": [
    {
     "name": "stdout",
     "output_type": "stream",
     "text": [
      "Everything ok!\n"
     ]
    }
   ],
   "source": [
    "for ev in eigVect:\n",
    "    np.testing.assert_array_almost_equal(1.0, np.linalg.norm(ev))\n",
    "print('Everything ok!')\n"
   ]
  },
  {
   "cell_type": "markdown",
   "metadata": {},
   "source": [
    "First, we need to sort our eigenvalues in descending order. Then we just keep the p vectors that we want to keep in our hyperplane composed of those p principal components."
   ]
  },
  {
   "cell_type": "code",
   "execution_count": 10,
   "metadata": {
    "ExecuteTime": {
     "end_time": "2019-03-22T19:11:40.116116Z",
     "start_time": "2019-03-22T19:11:40.104097Z"
    }
   },
   "outputs": [
    {
     "name": "stdout",
     "output_type": "stream",
     "text": [
      "(2.109896480948542, array([0.76908317, 0.63914872]))\n",
      "(0.3135395738147232, array([-0.63914872,  0.76908317]))\n"
     ]
    }
   ],
   "source": [
    "eigen_pairs = [(eigVal[i],eigVect[:,i]) for i in range(len(eigVal))] # stores eigen value & vector pairs\n",
    "\n",
    "eigen_pairs.sort(key=lambda x: x[0], reverse = True) # sorts in descending order\n",
    "\n",
    "for eig in eigen_pairs:\n",
    "    print(eig)"
   ]
  },
  {
   "cell_type": "markdown",
   "metadata": {},
   "source": [
    "Now that we have our sorted eigen pairs, we now have our true principal components. In this manner, principal component 1 should be responsible for the most variance in the data. It is from these eigen pairs, that we will be chosing which principal components to keep.\n",
    "\n",
    "we can see this fact by observing by how much each principal component contributes to the overall variance in the data"
   ]
  },
  {
   "cell_type": "code",
   "execution_count": 11,
   "metadata": {
    "ExecuteTime": {
     "end_time": "2019-03-22T19:11:40.409323Z",
     "start_time": "2019-03-22T19:11:40.120060Z"
    },
    "scrolled": true
   },
   "outputs": [
    {
     "data": {
      "text/plain": [
       "Text(0.5, 0, 'Principal components')"
      ]
     },
     "execution_count": 11,
     "metadata": {},
     "output_type": "execute_result"
    },
    {
     "data": {
      "image/png": "[encoded data removed]",
      "text/plain": [
       "<Figure size 432x288 with 1 Axes>"
      ]
     },
     "metadata": {
      "needs_background": "light"
     },
     "output_type": "display_data"
    }
   ],
   "source": [
    "tot_var = sum(eigVal) \n",
    "pca_var = [(val/tot_var)*100 for val in sorted(eigVal,reverse=True)]\n",
    "\n",
    "plt.bar(range(len(eigVal)), pca_var,align='center',alpha=0.7)\n",
    "plt.ylabel('Explained variance ratio')\n",
    "plt.xlabel('Principal components')"
   ]
  },
  {
   "cell_type": "markdown",
   "metadata": {},
   "source": [
    "#### We can read the bar graph above as:\n",
    "\n",
    "Principal component 0 contributes to over 80% of the variance in the data while principal component 1 contributes to less than 20% of variance.\n",
    "\n",
    "So while both of these principal components carry some information, PC0 explains variation in the data 4 times better than its conterpart PC1. Of course here we only have 2 dimensions but this case may become clearer with higher dimensional data where certain principal components have no measurable impact on the variation of our data.\n",
    "\n",
    "This does not mean that a certain feature is useless though! PCA maps our data onto another space, that of the principal components. So a useless principal component does not mean that part of our data is useless. Instead, it means that in our PCA space, we can remove some of our principal components with a minimal loss of information to our data. We can then map our data back to our original space with no real issue.\n"
   ]
  },
  {
   "cell_type": "markdown",
   "metadata": {},
   "source": [
    "### Projecting data onto our new hyperplane\n",
    "\n",
    "Now that we have our sorted eigenvalues and we have explained a little the principles behind PCA we can now get to the interesting part where we will project our data into the new hyperplane.\n",
    "\n",
    "Here we only had 2 dimensions so our only real choice is to reduce that to 1 dimension.\n",
    "\n",
    "We start this out by creating a matrix that is composed of p sorted eigenvectors. "
   ]
  },
  {
   "cell_type": "code",
   "execution_count": 12,
   "metadata": {
    "ExecuteTime": {
     "end_time": "2019-03-22T19:11:40.420359Z",
     "start_time": "2019-03-22T19:11:40.411277Z"
    }
   },
   "outputs": [
    {
     "name": "stdout",
     "output_type": "stream",
     "text": [
      "2\n",
      "[[0.76908317 0.63914872]]\n"
     ]
    }
   ],
   "source": [
    "p = 1\n",
    "n = len(eigVal)\n",
    "print(n)\n",
    "\n",
    "if p < n:\n",
    "    \n",
    "    pca_mat = np.array([eigen_pairs[i][1] for i in range(p)])\n",
    "    \n",
    "else:\n",
    "    print(\"dimensions mismatch, cant reduce data to more dimensions\")\n",
    "    \n",
    "    \n",
    "print(pca_mat)"
   ]
  },
  {
   "cell_type": "markdown",
   "metadata": {},
   "source": [
    "Projecting our data simply comes down to performing the dot product between our data points and the PCA transformation matrix which we created above."
   ]
  },
  {
   "cell_type": "code",
   "execution_count": 13,
   "metadata": {
    "ExecuteTime": {
     "end_time": "2019-03-22T19:11:40.434374Z",
     "start_time": "2019-03-22T19:11:40.423353Z"
    }
   },
   "outputs": [],
   "source": [
    "Y = np.dot(data, pca_mat.transpose())"
   ]
  },
  {
   "cell_type": "code",
   "execution_count": 14,
   "metadata": {
    "ExecuteTime": {
     "end_time": "2019-03-22T19:11:40.782076Z",
     "start_time": "2019-03-22T19:11:40.437573Z"
    }
   },
   "outputs": [
    {
     "data": {
      "text/plain": [
       "<matplotlib.collections.PathCollection at 0x1bcc40ec518>"
      ]
     },
     "execution_count": 14,
     "metadata": {},
     "output_type": "execute_result"
    },
    {
     "data": {
      "image/png": "[encoded data removed]",
      "text/plain": [
       "<Figure size 432x288 with 1 Axes>"
      ]
     },
     "metadata": {
      "needs_background": "light"
     },
     "output_type": "display_data"
    }
   ],
   "source": [
    "plt.scatter(Y,np.zeros(Y.shape))"
   ]
  },
  {
   "cell_type": "markdown",
   "metadata": {},
   "source": [
    "It is clear now that this is the data that we just had before but squished down to a single dimension. By doing this we have lost some of the original information that was contained in our data but because of the way that we did this, we have essentially preserved as much information as possible by using PCA.\n",
    "\n",
    "### plotting reduced data back onto original space\n",
    "Since we reduced the number of dimensions, projecting back onto the original space will result in a loss of information. This loss is due to the fact that we reduced the number of eigenvectors that we would be projecting our data back on.\n",
    "\n",
    "The formulat to get the graph above is\n",
    "$$ \\tilde{Y}= \\tilde{X} u^T $$\n",
    "\n",
    "where:\n",
    "\n",
    "$\\tilde{X}$: processed data (mean removed and possibly divided by variance)\n",
    "\n",
    "$\\tilde{Y}$: processed data that has been projected onto our hyperplane\n",
    "\n",
    "$u^T$: transpose of our principal components that we kept in our final hyperplane\n",
    "\n",
    "in order to get back to our original X, with some information loss of course we just move around the terms of the equation to get\n",
    "$$ \\tilde{X} = u^{-1}  \\tilde{Y}$$\n",
    "\n",
    "Where $ u^{-1}$ is the inverse of our eigen vector matrix that we use to map data onto the hyperplane. However, since all of the elements of the matrix are unit eigenvectors of our data. It turns out that the inverse of our eigen vector matrix is equal to its transpose. Therefore our equation becomes:\n",
    "\n",
    "$$ \\tilde{X} = u^{T}  \\tilde{Y^T}$$\n",
    "\n",
    "Finally, since we wish to get back to our original data we need to add the mean again that we removed before. This gives us the final equation\n",
    "\n",
    "$$ X = (u^{T}  \\tilde{Y^T}) + \\mu$$"
   ]
  },
  {
   "cell_type": "code",
   "execution_count": 15,
   "metadata": {
    "ExecuteTime": {
     "end_time": "2019-03-22T19:11:40.790014Z",
     "start_time": "2019-03-22T19:11:40.784037Z"
    }
   },
   "outputs": [],
   "source": [
    "processed_original_data = np.dot(pca_mat.transpose(),Y.transpose())\n",
    "\n",
    "original_data = processed_original_data + original_mean.reshape((2,1))"
   ]
  },
  {
   "cell_type": "code",
   "execution_count": 16,
   "metadata": {
    "ExecuteTime": {
     "end_time": "2019-03-22T19:11:41.026423Z",
     "start_time": "2019-03-22T19:11:40.793011Z"
    }
   },
   "outputs": [
    {
     "data": {
      "text/plain": [
       "<matplotlib.collections.PathCollection at 0x1bcc4153208>"
      ]
     },
     "execution_count": 16,
     "metadata": {},
     "output_type": "execute_result"
    },
    {
     "data": {
      "image/png": "[encoded data removed]",
      "text/plain": [
       "<Figure size 432x288 with 1 Axes>"
      ]
     },
     "metadata": {
      "needs_background": "light"
     },
     "output_type": "display_data"
    }
   ],
   "source": [
    "\n",
    "plt.scatter(original_data[0],original_data[1])\n",
    "plt.scatter(o_data.transpose()[0],o_data.transpose()[1])"
   ]
  },
  {
   "cell_type": "markdown",
   "metadata": {},
   "source": [
    "## Working with real-life data\n",
    "\n"
   ]
  },
  {
   "cell_type": "code",
   "execution_count": 17,
   "metadata": {
    "ExecuteTime": {
     "end_time": "2019-03-22T19:11:41.088846Z",
     "start_time": "2019-03-22T19:11:41.037359Z"
    }
   },
   "outputs": [],
   "source": [
    "file_name=\"diabetes.csv\"\n",
    "data_dir=\"Data/\"\n",
    "\n",
    "data = np.loadtxt(open(data_dir+file_name, \"rb\"), delimiter=\",\", skiprows=1)\n",
    "pd_data = pd.read_csv(data_dir+file_name)"
   ]
  },
  {
   "cell_type": "code",
   "execution_count": 18,
   "metadata": {
    "ExecuteTime": {
     "end_time": "2019-03-22T19:11:41.096834Z",
     "start_time": "2019-03-22T19:11:41.092571Z"
    }
   },
   "outputs": [
    {
     "name": "stdout",
     "output_type": "stream",
     "text": [
      "(768, 9)\n"
     ]
    }
   ],
   "source": [
    "print(data.shape)"
   ]
  },
  {
   "cell_type": "code",
   "execution_count": 19,
   "metadata": {
    "ExecuteTime": {
     "end_time": "2019-03-22T19:11:41.125775Z",
     "start_time": "2019-03-22T19:11:41.098830Z"
    }
   },
   "outputs": [
    {
     "data": {
      "text/html": [
       "<div>\n",
       "<style scoped>\n",
       "    .dataframe tbody tr th:only-of-type {\n",
       "        vertical-align: middle;\n",
       "    }\n",
       "\n",
       "    .dataframe tbody tr th {\n",
       "        vertical-align: top;\n",
       "    }\n",
       "\n",
       "    .dataframe thead th {\n",
       "        text-align: right;\n",
       "    }\n",
       "</style>\n",
       "<table border=\"1\" class=\"dataframe\">\n",
       "  <thead>\n",
       "    <tr style=\"text-align: right;\">\n",
       "      <th></th>\n",
       "      <th>Pregnancies</th>\n",
       "      <th>Glucose</th>\n",
       "      <th>BloodPressure</th>\n",
       "      <th>SkinThickness</th>\n",
       "      <th>Insulin</th>\n",
       "      <th>BMI</th>\n",
       "      <th>DiabetesPedigreeFunction</th>\n",
       "      <th>Age</th>\n",
       "      <th>Outcome</th>\n",
       "    </tr>\n",
       "  </thead>\n",
       "  <tbody>\n",
       "    <tr>\n",
       "      <th>0</th>\n",
       "      <td>6</td>\n",
       "      <td>148</td>\n",
       "      <td>72</td>\n",
       "      <td>35</td>\n",
       "      <td>0</td>\n",
       "      <td>33.6</td>\n",
       "      <td>0.627</td>\n",
       "      <td>50</td>\n",
       "      <td>1</td>\n",
       "    </tr>\n",
       "    <tr>\n",
       "      <th>1</th>\n",
       "      <td>1</td>\n",
       "      <td>85</td>\n",
       "      <td>66</td>\n",
       "      <td>29</td>\n",
       "      <td>0</td>\n",
       "      <td>26.6</td>\n",
       "      <td>0.351</td>\n",
       "      <td>31</td>\n",
       "      <td>0</td>\n",
       "    </tr>\n",
       "    <tr>\n",
       "      <th>2</th>\n",
       "      <td>8</td>\n",
       "      <td>183</td>\n",
       "      <td>64</td>\n",
       "      <td>0</td>\n",
       "      <td>0</td>\n",
       "      <td>23.3</td>\n",
       "      <td>0.672</td>\n",
       "      <td>32</td>\n",
       "      <td>1</td>\n",
       "    </tr>\n",
       "    <tr>\n",
       "      <th>3</th>\n",
       "      <td>1</td>\n",
       "      <td>89</td>\n",
       "      <td>66</td>\n",
       "      <td>23</td>\n",
       "      <td>94</td>\n",
       "      <td>28.1</td>\n",
       "      <td>0.167</td>\n",
       "      <td>21</td>\n",
       "      <td>0</td>\n",
       "    </tr>\n",
       "    <tr>\n",
       "      <th>4</th>\n",
       "      <td>0</td>\n",
       "      <td>137</td>\n",
       "      <td>40</td>\n",
       "      <td>35</td>\n",
       "      <td>168</td>\n",
       "      <td>43.1</td>\n",
       "      <td>2.288</td>\n",
       "      <td>33</td>\n",
       "      <td>1</td>\n",
       "    </tr>\n",
       "  </tbody>\n",
       "</table>\n",
       "</div>"
      ],
      "text/plain": [
       "   Pregnancies  Glucose  BloodPressure  SkinThickness  Insulin   BMI  \\\n",
       "0            6      148             72             35        0  33.6   \n",
       "1            1       85             66             29        0  26.6   \n",
       "2            8      183             64              0        0  23.3   \n",
       "3            1       89             66             23       94  28.1   \n",
       "4            0      137             40             35      168  43.1   \n",
       "\n",
       "   DiabetesPedigreeFunction  Age  Outcome  \n",
       "0                     0.627   50        1  \n",
       "1                     0.351   31        0  \n",
       "2                     0.672   32        1  \n",
       "3                     0.167   21        0  \n",
       "4                     2.288   33        1  "
      ]
     },
     "execution_count": 19,
     "metadata": {},
     "output_type": "execute_result"
    }
   ],
   "source": [
    "pd_data.head()"
   ]
  },
  {
   "cell_type": "code",
   "execution_count": 20,
   "metadata": {
    "ExecuteTime": {
     "end_time": "2019-03-22T19:11:41.199303Z",
     "start_time": "2019-03-22T19:11:41.128792Z"
    },
    "scrolled": false
   },
   "outputs": [
    {
     "data": {
      "text/html": [
       "<div>\n",
       "<style scoped>\n",
       "    .dataframe tbody tr th:only-of-type {\n",
       "        vertical-align: middle;\n",
       "    }\n",
       "\n",
       "    .dataframe tbody tr th {\n",
       "        vertical-align: top;\n",
       "    }\n",
       "\n",
       "    .dataframe thead th {\n",
       "        text-align: right;\n",
       "    }\n",
       "</style>\n",
       "<table border=\"1\" class=\"dataframe\">\n",
       "  <thead>\n",
       "    <tr style=\"text-align: right;\">\n",
       "      <th></th>\n",
       "      <th>Pregnancies</th>\n",
       "      <th>Glucose</th>\n",
       "      <th>BloodPressure</th>\n",
       "      <th>SkinThickness</th>\n",
       "      <th>Insulin</th>\n",
       "      <th>BMI</th>\n",
       "      <th>DiabetesPedigreeFunction</th>\n",
       "      <th>Age</th>\n",
       "      <th>Outcome</th>\n",
       "    </tr>\n",
       "  </thead>\n",
       "  <tbody>\n",
       "    <tr>\n",
       "      <th>count</th>\n",
       "      <td>768.000000</td>\n",
       "      <td>768.000000</td>\n",
       "      <td>768.000000</td>\n",
       "      <td>768.000000</td>\n",
       "      <td>768.000000</td>\n",
       "      <td>768.000000</td>\n",
       "      <td>768.000000</td>\n",
       "      <td>768.000000</td>\n",
       "      <td>768.000000</td>\n",
       "    </tr>\n",
       "    <tr>\n",
       "      <th>mean</th>\n",
       "      <td>3.845052</td>\n",
       "      <td>120.894531</td>\n",
       "      <td>69.105469</td>\n",
       "      <td>20.536458</td>\n",
       "      <td>79.799479</td>\n",
       "      <td>31.992578</td>\n",
       "      <td>0.471876</td>\n",
       "      <td>33.240885</td>\n",
       "      <td>0.348958</td>\n",
       "    </tr>\n",
       "    <tr>\n",
       "      <th>std</th>\n",
       "      <td>3.369578</td>\n",
       "      <td>31.972618</td>\n",
       "      <td>19.355807</td>\n",
       "      <td>15.952218</td>\n",
       "      <td>115.244002</td>\n",
       "      <td>7.884160</td>\n",
       "      <td>0.331329</td>\n",
       "      <td>11.760232</td>\n",
       "      <td>0.476951</td>\n",
       "    </tr>\n",
       "    <tr>\n",
       "      <th>min</th>\n",
       "      <td>0.000000</td>\n",
       "      <td>0.000000</td>\n",
       "      <td>0.000000</td>\n",
       "      <td>0.000000</td>\n",
       "      <td>0.000000</td>\n",
       "      <td>0.000000</td>\n",
       "      <td>0.078000</td>\n",
       "      <td>21.000000</td>\n",
       "      <td>0.000000</td>\n",
       "    </tr>\n",
       "    <tr>\n",
       "      <th>25%</th>\n",
       "      <td>1.000000</td>\n",
       "      <td>99.000000</td>\n",
       "      <td>62.000000</td>\n",
       "      <td>0.000000</td>\n",
       "      <td>0.000000</td>\n",
       "      <td>27.300000</td>\n",
       "      <td>0.243750</td>\n",
       "      <td>24.000000</td>\n",
       "      <td>0.000000</td>\n",
       "    </tr>\n",
       "    <tr>\n",
       "      <th>50%</th>\n",
       "      <td>3.000000</td>\n",
       "      <td>117.000000</td>\n",
       "      <td>72.000000</td>\n",
       "      <td>23.000000</td>\n",
       "      <td>30.500000</td>\n",
       "      <td>32.000000</td>\n",
       "      <td>0.372500</td>\n",
       "      <td>29.000000</td>\n",
       "      <td>0.000000</td>\n",
       "    </tr>\n",
       "    <tr>\n",
       "      <th>75%</th>\n",
       "      <td>6.000000</td>\n",
       "      <td>140.250000</td>\n",
       "      <td>80.000000</td>\n",
       "      <td>32.000000</td>\n",
       "      <td>127.250000</td>\n",
       "      <td>36.600000</td>\n",
       "      <td>0.626250</td>\n",
       "      <td>41.000000</td>\n",
       "      <td>1.000000</td>\n",
       "    </tr>\n",
       "    <tr>\n",
       "      <th>max</th>\n",
       "      <td>17.000000</td>\n",
       "      <td>199.000000</td>\n",
       "      <td>122.000000</td>\n",
       "      <td>99.000000</td>\n",
       "      <td>846.000000</td>\n",
       "      <td>67.100000</td>\n",
       "      <td>2.420000</td>\n",
       "      <td>81.000000</td>\n",
       "      <td>1.000000</td>\n",
       "    </tr>\n",
       "  </tbody>\n",
       "</table>\n",
       "</div>"
      ],
      "text/plain": [
       "       Pregnancies     Glucose  BloodPressure  SkinThickness     Insulin  \\\n",
       "count   768.000000  768.000000     768.000000     768.000000  768.000000   \n",
       "mean      3.845052  120.894531      69.105469      20.536458   79.799479   \n",
       "std       3.369578   31.972618      19.355807      15.952218  115.244002   \n",
       "min       0.000000    0.000000       0.000000       0.000000    0.000000   \n",
       "25%       1.000000   99.000000      62.000000       0.000000    0.000000   \n",
       "50%       3.000000  117.000000      72.000000      23.000000   30.500000   \n",
       "75%       6.000000  140.250000      80.000000      32.000000  127.250000   \n",
       "max      17.000000  199.000000     122.000000      99.000000  846.000000   \n",
       "\n",
       "              BMI  DiabetesPedigreeFunction         Age     Outcome  \n",
       "count  768.000000                768.000000  768.000000  768.000000  \n",
       "mean    31.992578                  0.471876   33.240885    0.348958  \n",
       "std      7.884160                  0.331329   11.760232    0.476951  \n",
       "min      0.000000                  0.078000   21.000000    0.000000  \n",
       "25%     27.300000                  0.243750   24.000000    0.000000  \n",
       "50%     32.000000                  0.372500   29.000000    0.000000  \n",
       "75%     36.600000                  0.626250   41.000000    1.000000  \n",
       "max     67.100000                  2.420000   81.000000    1.000000  "
      ]
     },
     "execution_count": 20,
     "metadata": {},
     "output_type": "execute_result"
    }
   ],
   "source": [
    "pd_data.describe()"
   ]
  },
  {
   "cell_type": "code",
   "execution_count": 21,
   "metadata": {
    "ExecuteTime": {
     "end_time": "2019-03-22T19:11:41.437735Z",
     "start_time": "2019-03-22T19:11:41.202294Z"
    }
   },
   "outputs": [
    {
     "data": {
      "text/plain": [
       "<matplotlib.collections.PathCollection at 0x1bcc423b390>"
      ]
     },
     "execution_count": 21,
     "metadata": {},
     "output_type": "execute_result"
    },
    {
     "data": {
      "image/png": "[encoded data removed]",
      "text/plain": [
       "<Figure size 432x288 with 1 Axes>"
      ]
     },
     "metadata": {
      "needs_background": "light"
     },
     "output_type": "display_data"
    }
   ],
   "source": [
    "plt.scatter(pd_data[\"Glucose\"],pd_data[\"BloodPressure\"])"
   ]
  },
  {
   "cell_type": "code",
   "execution_count": 22,
   "metadata": {
    "ExecuteTime": {
     "end_time": "2019-03-22T19:11:41.672755Z",
     "start_time": "2019-03-22T19:11:41.438622Z"
    }
   },
   "outputs": [
    {
     "data": {
      "text/plain": [
       "<matplotlib.collections.PathCollection at 0x1bcc429ad30>"
      ]
     },
     "execution_count": 22,
     "metadata": {},
     "output_type": "execute_result"
    },
    {
     "data": {
      "image/png": "[encoded data removed]",
      "text/plain": [
       "<Figure size 432x288 with 1 Axes>"
      ]
     },
     "metadata": {
      "needs_background": "light"
     },
     "output_type": "display_data"
    }
   ],
   "source": [
    "plt.scatter(pd_data[\"DiabetesPedigreeFunction\"],pd_data[\"BMI\"])"
   ]
  },
  {
   "cell_type": "markdown",
   "metadata": {},
   "source": [
    "Like before, we will perform the same types of operations on the data in order to perform PCA. This time, we have a lot more dimensions to work with meaning that we should get some more interesting results in terms of dimensionality reduction."
   ]
  },
  {
   "cell_type": "markdown",
   "metadata": {},
   "source": [
    "### Data pre processing:\n",
    "\n",
    "Like before, we will be centering data along the mean. To do this we subtract the mean from each point.\n",
    "\n",
    "Next thing we can do is divide by the variance, this is so that we get a normal distribution with mean 0 and std 1\n",
    "\n",
    "We will also drop the last column as it is a target and not a feature. It will be usefull later to check if PCA worked properly"
   ]
  },
  {
   "cell_type": "code",
   "execution_count": null,
   "metadata": {},
   "outputs": [],
   "source": []
  },
  {
   "cell_type": "code",
   "execution_count": 23,
   "metadata": {
    "ExecuteTime": {
     "end_time": "2019-03-22T19:11:41.679741Z",
     "start_time": "2019-03-22T19:11:41.673725Z"
    }
   },
   "outputs": [
    {
     "name": "stdout",
     "output_type": "stream",
     "text": [
      "(768, 8)\n",
      "(768,)\n"
     ]
    }
   ],
   "source": [
    "x = data.transpose()[:-1].transpose()\n",
    "target = data.transpose()[-1].transpose()\n",
    "\n",
    "\n",
    "print(x.shape)\n",
    "print(target.shape)"
   ]
  },
  {
   "cell_type": "code",
   "execution_count": 24,
   "metadata": {
    "ExecuteTime": {
     "end_time": "2019-03-22T19:11:41.691677Z",
     "start_time": "2019-03-22T19:11:41.680706Z"
    }
   },
   "outputs": [
    {
     "name": "stdout",
     "output_type": "stream",
     "text": [
      "[  3.84505208 120.89453125  69.10546875  20.53645833  79.79947917\n",
      "  31.99257812   0.4718763   33.24088542]\n"
     ]
    }
   ],
   "source": [
    "data_mean = x.mean(axis=0)\n",
    "\n",
    "print(data_mean)"
   ]
  },
  {
   "cell_type": "code",
   "execution_count": 25,
   "metadata": {
    "ExecuteTime": {
     "end_time": "2019-03-22T19:11:41.699656Z",
     "start_time": "2019-03-22T19:11:41.692673Z"
    }
   },
   "outputs": [],
   "source": [
    "x_centered = x - data_mean"
   ]
  },
  {
   "cell_type": "markdown",
   "metadata": {},
   "source": [
    "### Calculating the covariance matrix"
   ]
  },
  {
   "cell_type": "code",
   "execution_count": 26,
   "metadata": {
    "ExecuteTime": {
     "end_time": "2019-03-22T19:11:41.711626Z",
     "start_time": "2019-03-22T19:11:41.701649Z"
    }
   },
   "outputs": [
    {
     "name": "stdout",
     "output_type": "stream",
     "text": [
      "[[ 1.13540563e+01  1.39471307e+01  9.21453818e+00 -4.39004101e+00\n",
      "  -2.85552307e+01  4.69774181e-01 -3.74259714e-02  2.15706198e+01]\n",
      " [ 1.39471307e+01  1.02224831e+03  9.44309556e+01  2.92391827e+01\n",
      "   1.22093580e+03  5.57269867e+01  1.45487481e+00  9.90828054e+01]\n",
      " [ 9.21453818e+00  9.44309556e+01  3.74647271e+02  6.40293962e+01\n",
      "   1.98378412e+02  4.30046951e+01  2.64637574e-01  5.45234528e+01]\n",
      " [-4.39004101e+00  2.92391827e+01  6.40293962e+01  2.54473245e+02\n",
      "   8.02979941e+02  4.93738694e+01  9.72135546e-01 -2.13810232e+01]\n",
      " [-2.85552307e+01  1.22093580e+03  1.98378412e+02  8.02979941e+02\n",
      "   1.32811801e+04  1.79775172e+02  7.06668051e+00 -5.71432903e+01]\n",
      " [ 4.69774181e-01  5.57269867e+01  4.30046951e+01  4.93738694e+01\n",
      "   1.79775172e+02  6.21599840e+01  3.67404687e-01  3.36032992e+00]\n",
      " [-3.74259714e-02  1.45487481e+00  2.64637574e-01  9.72135546e-01\n",
      "   7.06668051e+00  3.67404687e-01  1.09778638e-01  1.30771687e-01]\n",
      " [ 2.15706198e+01  9.90828054e+01  5.45234528e+01 -2.13810232e+01\n",
      "  -5.71432903e+01  3.36032992e+00  1.30771687e-01  1.38303046e+02]]\n"
     ]
    }
   ],
   "source": [
    "var = x.var(axis=0)\n",
    "\n",
    "cov = np.cov(x.transpose())\n",
    "print(cov)"
   ]
  },
  {
   "cell_type": "markdown",
   "metadata": {},
   "source": [
    "### Deriving the eigen vector and values from the covariance matrix"
   ]
  },
  {
   "cell_type": "code",
   "execution_count": 27,
   "metadata": {
    "ExecuteTime": {
     "end_time": "2019-03-22T19:11:41.721597Z",
     "start_time": "2019-03-22T19:11:41.713620Z"
    }
   },
   "outputs": [],
   "source": [
    "eigVal,eigVect = np.linalg.eig(cov)"
   ]
  },
  {
   "cell_type": "markdown",
   "metadata": {},
   "source": [
    "### Sorting eigen pairs by eigen value in descending order"
   ]
  },
  {
   "cell_type": "code",
   "execution_count": 28,
   "metadata": {
    "ExecuteTime": {
     "end_time": "2019-03-22T19:11:41.731570Z",
     "start_time": "2019-03-22T19:11:41.723596Z"
    }
   },
   "outputs": [],
   "source": [
    "eigen_pairs = [(eigVal[i],eigVect[:,i]) for i in range(len(eigVal))] # stores eigen value & vector pairs\n",
    "\n",
    "eigen_pairs.sort(key=lambda x: x[0], reverse = True) # sorts in descending order with key as eigen val (first item [0])\n"
   ]
  },
  {
   "cell_type": "code",
   "execution_count": 29,
   "metadata": {
    "ExecuteTime": {
     "end_time": "2019-03-22T19:11:41.946877Z",
     "start_time": "2019-03-22T19:11:41.733568Z"
    }
   },
   "outputs": [
    {
     "data": {
      "text/plain": [
       "Text(0.5, 0, 'Principal components')"
      ]
     },
     "execution_count": 29,
     "metadata": {},
     "output_type": "execute_result"
    },
    {
     "data": {
      "image/png": "[encoded data removed]",
      "text/plain": [
       "<Figure size 432x288 with 1 Axes>"
      ]
     },
     "metadata": {
      "needs_background": "light"
     },
     "output_type": "display_data"
    }
   ],
   "source": [
    "tot_var = sum(eigVal) \n",
    "pca_var = [(val/tot_var)*100 for val in sorted(eigVal,reverse=True)]\n",
    "\n",
    "plt.bar(range(len(eigVal)), pca_var,align='center',alpha=0.7)\n",
    "plt.ylabel('Explained variance ratio')\n",
    "plt.xlabel('Principal components')"
   ]
  },
  {
   "cell_type": "markdown",
   "metadata": {},
   "source": [
    "It is clear here that there are some principal components which have very little influence over the variation in the data. This is good as it will allow us to greatly reduce the amount of dimentions for this dataset.\n",
    "\n",
    "Looking at the graph above, we can reduce down to 2 dimensions with very little loss of information"
   ]
  },
  {
   "cell_type": "markdown",
   "metadata": {},
   "source": [
    "### Selecting our princial components to create our hyperplane"
   ]
  },
  {
   "cell_type": "code",
   "execution_count": 30,
   "metadata": {
    "ExecuteTime": {
     "end_time": "2019-03-22T19:11:41.953826Z",
     "start_time": "2019-03-22T19:11:41.948841Z"
    }
   },
   "outputs": [],
   "source": [
    "p = 3\n",
    "n = x.shape[1]\n",
    "\n",
    "if p <= n:\n",
    "    \n",
    "    pca_mat = np.array([eigen_pairs[i][1] for i in range(p)])\n",
    "else:\n",
    "    print(\"dimension mismatch\")"
   ]
  },
  {
   "cell_type": "code",
   "execution_count": 31,
   "metadata": {
    "ExecuteTime": {
     "end_time": "2019-03-22T19:11:41.967788Z",
     "start_time": "2019-03-22T19:11:41.955858Z"
    }
   },
   "outputs": [
    {
     "name": "stdout",
     "output_type": "stream",
     "text": [
      "[[-2.02176587e-03  9.78115765e-02  1.60930503e-02  6.07566861e-02\n",
      "   9.93110844e-01  1.40108085e-02  5.37167919e-04 -3.56474430e-03]\n",
      " [ 2.26488861e-02  9.72210040e-01  1.41909330e-01 -5.78614699e-02\n",
      "  -9.46266913e-02  4.69729766e-02  8.16804621e-04  1.40168181e-01]\n",
      " [-2.24649003e-02  1.43428710e-01 -9.22467192e-01 -3.07013055e-01\n",
      "   2.09773019e-02 -1.32444542e-01 -6.39983017e-04 -1.25454310e-01]]\n",
      "[(13456.572981016574, array([-2.02176587e-03,  9.78115765e-02,  1.60930503e-02,  6.07566861e-02,\n",
      "        9.93110844e-01,  1.40108085e-02,  5.37167919e-04, -3.56474430e-03])), (932.7601323145335, array([ 2.26488861e-02,  9.72210040e-01,  1.41909330e-01, -5.78614699e-02,\n",
      "       -9.46266913e-02,  4.69729766e-02,  8.16804621e-04,  1.40168181e-01])), (390.5778311459803, array([-2.24649003e-02,  1.43428710e-01, -9.22467192e-01, -3.07013055e-01,\n",
      "        2.09773019e-02, -1.32444542e-01, -6.39983017e-04, -1.25454310e-01])), (198.18269105319072, array([-0.04904596,  0.11983002, -0.26274279,  0.88436938, -0.06555036,\n",
      "        0.19280173,  0.00269909, -0.30102433])), (112.68911496438854, array([ 1.51612874e-01, -8.79407680e-02, -2.32165009e-01,  2.59973487e-01,\n",
      "       -1.72312241e-04,  2.14744823e-02,  1.64080684e-03,  9.20504903e-01])), (45.8294430682868, array([ 0.00504731, -0.05073918, -0.07563655, -0.22136307,  0.00613326,\n",
      "        0.97077671,  0.00202904,  0.01511332])), (7.760708988212513, array([-9.86672995e-01, -8.83426114e-04,  1.22975947e-03,  3.76444746e-04,\n",
      "       -1.42307394e-03,  2.73046214e-03,  6.34402965e-03,  1.62555343e-01])), (0.10287101756512844, array([-6.10123250e-03,  8.25459539e-04, -5.20865450e-04,  2.54871909e-03,\n",
      "        2.68965921e-04,  2.67341863e-03, -9.99972146e-01,  1.95271966e-03]))]\n"
     ]
    }
   ],
   "source": [
    "print(pca_mat)\n",
    "print(eigen_pairs)"
   ]
  },
  {
   "cell_type": "markdown",
   "metadata": {},
   "source": [
    "### Projecting our processed data onto this hyperplane\n",
    "\n",
    "Like we explained above, the formula for projecting onto our hyperplane containing the p principal components we use:\n",
    "$$ \\tilde{Y}= \\tilde{X}\\cdot u^T $$\n"
   ]
  },
  {
   "cell_type": "code",
   "execution_count": 32,
   "metadata": {
    "ExecuteTime": {
     "end_time": "2019-03-22T19:11:41.978799Z",
     "start_time": "2019-03-22T19:11:41.969781Z"
    }
   },
   "outputs": [],
   "source": [
    "Y = np.dot(x_centered,pca_mat.transpose())"
   ]
  },
  {
   "cell_type": "code",
   "execution_count": 33,
   "metadata": {
    "ExecuteTime": {
     "end_time": "2019-03-22T19:11:42.318360Z",
     "start_time": "2019-03-22T19:11:41.980902Z"
    }
   },
   "outputs": [
    {
     "data": {
      "text/plain": [
       "<matplotlib.collections.PathCollection at 0x1bcc534b6a0>"
      ]
     },
     "execution_count": 33,
     "metadata": {},
     "output_type": "execute_result"
    },
    {
     "data": {
      "image/png": "[encoded data removed]",
      "text/plain": [
       "<Figure size 432x288 with 1 Axes>"
      ]
     },
     "metadata": {
      "needs_background": "light"
     },
     "output_type": "display_data"
    }
   ],
   "source": [
    "plt.scatter(Y.transpose()[2],Y.transpose()[0], c= target )"
   ]
  },
  {
   "cell_type": "markdown",
   "metadata": {},
   "source": [
    "https://matplotlib.org/2.1.1/gallery/mplot3d/scatter3d.html : for making 3d scatter plots"
   ]
  },
  {
   "cell_type": "code",
   "execution_count": 34,
   "metadata": {
    "ExecuteTime": {
     "end_time": "2019-03-22T19:11:42.787100Z",
     "start_time": "2019-03-22T19:11:42.321316Z"
    },
    "scrolled": true
   },
   "outputs": [
    {
     "data": {
      "text/plain": [
       "<mpl_toolkits.mplot3d.art3d.Path3DCollection at 0x1bcc53b3cc0>"
      ]
     },
     "execution_count": 34,
     "metadata": {},
     "output_type": "execute_result"
    },
    {
     "data": {
      "image/png": "[encoded data removed]",
      "text/plain": [
       "<Figure size 432x288 with 1 Axes>"
      ]
     },
     "metadata": {
      "needs_background": "light"
     },
     "output_type": "display_data"
    }
   ],
   "source": [
    "from mpl_toolkits.mplot3d import Axes3D\n",
    "\n",
    "fig = plt.figure()\n",
    "ax = fig.add_subplot(111, projection='3d')\n",
    "\n",
    "ax.scatter(Y.transpose()[1],Y.transpose()[0],Y.transpose()[2], c=target)"
   ]
  },
  {
   "cell_type": "markdown",
   "metadata": {},
   "source": [
    "Finally, to get back to our original data we will use the equation:\n",
    "\n",
    "$$ X = (u^{T} \\cdot \\tilde{Y^T}) + \\mu$$"
   ]
  },
  {
   "cell_type": "code",
   "execution_count": 35,
   "metadata": {
    "ExecuteTime": {
     "end_time": "2019-03-22T19:11:42.795090Z",
     "start_time": "2019-03-22T19:11:42.790063Z"
    }
   },
   "outputs": [],
   "source": [
    "x_orig = np.dot(pca_mat.transpose(),Y.transpose()) + data_mean.reshape(8,1)"
   ]
  },
  {
   "cell_type": "code",
   "execution_count": 36,
   "metadata": {
    "ExecuteTime": {
     "end_time": "2019-03-22T19:11:42.812005Z",
     "start_time": "2019-03-22T19:11:42.798043Z"
    }
   },
   "outputs": [
    {
     "name": "stdout",
     "output_type": "stream",
     "text": [
      "(8, 768)\n"
     ]
    }
   ],
   "source": [
    "print(x_orig.shape)"
   ]
  },
  {
   "cell_type": "code",
   "execution_count": 37,
   "metadata": {
    "ExecuteTime": {
     "end_time": "2019-03-22T19:11:43.163519Z",
     "start_time": "2019-03-22T19:11:42.814004Z"
    }
   },
   "outputs": [
    {
     "data": {
      "text/plain": [
       "<matplotlib.collections.PathCollection at 0x1bcc54d0b70>"
      ]
     },
     "execution_count": 37,
     "metadata": {},
     "output_type": "execute_result"
    },
    {
     "data": {
      "image/png": "[encoded data removed]",
      "text/plain": [
       "<Figure size 432x288 with 1 Axes>"
      ]
     },
     "metadata": {
      "needs_background": "light"
     },
     "output_type": "display_data"
    }
   ],
   "source": [
    "plt.scatter(x_orig[1],x_orig[2],alpha=0.6)\n",
    "plt.scatter(x.transpose()[1],x.transpose()[2],alpha=0.3)"
   ]
  },
  {
   "cell_type": "code",
   "execution_count": 38,
   "metadata": {
    "ExecuteTime": {
     "end_time": "2019-03-22T19:11:43.459232Z",
     "start_time": "2019-03-22T19:11:43.165005Z"
    }
   },
   "outputs": [
    {
     "data": {
      "text/plain": [
       "<matplotlib.collections.PathCollection at 0x1bcc55098d0>"
      ]
     },
     "execution_count": 38,
     "metadata": {},
     "output_type": "execute_result"
    },
    {
     "data": {
      "image/png": "[encoded data removed]",
      "text/plain": [
       "<Figure size 432x288 with 1 Axes>"
      ]
     },
     "metadata": {
      "needs_background": "light"
     },
     "output_type": "display_data"
    }
   ],
   "source": [
    "plt.scatter(x_orig[5],x_orig[6],alpha=0.6)\n",
    "plt.scatter(x.transpose()[5],x.transpose()[6],alpha=0.1)"
   ]
  },
  {
   "cell_type": "markdown",
   "metadata": {},
   "source": []
  },
  {
   "cell_type": "code",
   "execution_count": 40,
   "metadata": {
    "ExecuteTime": {
     "end_time": "2019-03-22T19:12:26.406080Z",
     "start_time": "2019-03-22T19:12:26.400128Z"
    }
   },
   "outputs": [
    {
     "name": "stdout",
     "output_type": "stream",
     "text": [
      "[  4.97548747 147.39906774  79.68658009  16.08527869   1.05221896\n",
      "  33.58212174   0.46521637  39.46084188]\n",
      "[  6.    148.     72.     35.      0.     33.6     0.627  50.   ]\n",
      "[-75.71465491  35.95078264  -7.26078895]\n"
     ]
    }
   ],
   "source": [
    "print(x_orig.transpose()[0])\n",
    "print(x[0])\n",
    "print(Y[0])"
   ]
  }
 ],
 "metadata": {
  "kernelspec": {
   "display_name": "Python 3",
   "language": "python",
   "name": "python3"
  },
  "language_info": {
   "codemirror_mode": {
    "name": "ipython",
    "version": 3
   },
   "file_extension": ".py",
   "mimetype": "text/x-python",
   "name": "python",
   "nbconvert_exporter": "python",
   "pygments_lexer": "ipython3",
   "version": "3.6.8"
  }
 },
 "nbformat": 4,
 "nbformat_minor": 2
}
